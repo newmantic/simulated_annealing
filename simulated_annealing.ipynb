{
  "nbformat": 4,
  "nbformat_minor": 0,
  "metadata": {
    "colab": {
      "provenance": [],
      "authorship_tag": "ABX9TyNtgLnqA2yTABf+ZC3EJ/lL",
      "include_colab_link": true
    },
    "kernelspec": {
      "name": "python3",
      "display_name": "Python 3"
    },
    "language_info": {
      "name": "python"
    }
  },
  "cells": [
    {
      "cell_type": "markdown",
      "metadata": {
        "id": "view-in-github",
        "colab_type": "text"
      },
      "source": [
        "<a href=\"https://colab.research.google.com/github/newmantic/simulated_annealing/blob/main/simulated_annealing.ipynb\" target=\"_parent\"><img src=\"https://colab.research.google.com/assets/colab-badge.svg\" alt=\"Open In Colab\"/></a>"
      ]
    },
    {
      "cell_type": "code",
      "execution_count": 1,
      "metadata": {
        "id": "2qdUZJLz6lkW"
      },
      "outputs": [],
      "source": [
        "import numpy as np\n",
        "\n",
        "def simulated_annealing(objective_function, bounds, max_iter, initial_temp, cooling_rate):\n",
        "    \"\"\"\n",
        "    Perform Simulated Annealing to minimize the given objective function.\n",
        "\n",
        "    :param objective_function: The objective function to minimize.\n",
        "    :param bounds: A list of tuples specifying the lower and upper bounds for each dimension.\n",
        "    :param max_iter: Maximum number of iterations to run the algorithm.\n",
        "    :param initial_temp: The initial temperature for the annealing process.\n",
        "    :param cooling_rate: The rate at which the temperature decreases.\n",
        "    :return: The best solution found and its objective function value.\n",
        "    \"\"\"\n",
        "    # Initialize the starting point randomly within the bounds\n",
        "    current_solution = np.array([np.random.uniform(low, high) for low, high in bounds])\n",
        "    current_value = objective_function(current_solution)\n",
        "\n",
        "    # Initialize the best solution as the current one\n",
        "    best_solution = np.copy(current_solution)\n",
        "    best_value = current_value\n",
        "\n",
        "    # Initialize the current temperature\n",
        "    temperature = initial_temp\n",
        "\n",
        "    for i in range(max_iter):\n",
        "        # Generate a new candidate solution by perturbing the current solution\n",
        "        candidate_solution = current_solution + np.random.normal(0, 1, size=current_solution.shape)\n",
        "\n",
        "        # Clip the candidate solution to respect the bounds\n",
        "        candidate_solution = np.clip(candidate_solution, [low for low, _ in bounds], [high for _, high in bounds])\n",
        "\n",
        "        # Evaluate the candidate solution\n",
        "        candidate_value = objective_function(candidate_solution)\n",
        "\n",
        "        # Calculate the acceptance probability\n",
        "        delta = candidate_value - current_value\n",
        "        acceptance_probability = np.exp(-delta / temperature) if delta > 0 else 1.0\n",
        "\n",
        "        # Decide whether to accept the candidate solution\n",
        "        if np.random.rand() < acceptance_probability:\n",
        "            current_solution = candidate_solution\n",
        "            current_value = candidate_value\n",
        "\n",
        "            # Update the best solution if the candidate is better\n",
        "            if candidate_value < best_value:\n",
        "                best_solution = candidate_solution\n",
        "                best_value = candidate_value\n",
        "\n",
        "        # Cool down the temperature\n",
        "        temperature *= cooling_rate\n",
        "\n",
        "    return best_solution, best_value"
      ]
    },
    {
      "cell_type": "code",
      "source": [
        "def rastrigin_function(x):\n",
        "    n = len(x)\n",
        "    return 10 * n + sum([xi**2 - 10 * np.cos(2 * np.pi * xi) for xi in x])\n",
        "\n",
        "def test_case_1():\n",
        "    bounds = [(-5.12, 5.12)] * 2  # 2-dimensional problem\n",
        "    max_iter = 1000\n",
        "    initial_temp = 100\n",
        "    cooling_rate = 0.95\n",
        "\n",
        "    best_solution, best_value = simulated_annealing(rastrigin_function, bounds, max_iter, initial_temp, cooling_rate)\n",
        "    print(f\"Best solution: {best_solution}\")\n",
        "    print(f\"Best objective value: {best_value}\")\n",
        "    # Expected: The best value should be close to 0, the global minimum of the Rastrigin function.\n",
        "\n",
        "test_case_1()"
      ],
      "metadata": {
        "colab": {
          "base_uri": "https://localhost:8080/"
        },
        "id": "UUCgc_h764iP",
        "outputId": "0e5d53e8-f9d3-4710-a9ab-60dd8c487bbd"
      },
      "execution_count": 2,
      "outputs": [
        {
          "output_type": "stream",
          "name": "stdout",
          "text": [
            "Best solution: [0.00882339 0.01161775]\n",
            "Best objective value: 0.04220689904783015\n"
          ]
        }
      ]
    },
    {
      "cell_type": "code",
      "source": [
        "def ackley_function(x):\n",
        "    a = 20\n",
        "    b = 0.2\n",
        "    c = 2 * np.pi\n",
        "    n = len(x)\n",
        "    sum1 = np.sum(np.square(x))\n",
        "    sum2 = np.sum(np.cos(c * x))\n",
        "    return -a * np.exp(-b * np.sqrt(sum1 / n)) - np.exp(sum2 / n) + a + np.exp(1)\n",
        "\n",
        "def test_case_2():\n",
        "    bounds = [(-5, 5)] * 2  # 2-dimensional problem\n",
        "    max_iter = 1000\n",
        "    initial_temp = 100\n",
        "    cooling_rate = 0.95\n",
        "\n",
        "    best_solution, best_value = simulated_annealing(ackley_function, bounds, max_iter, initial_temp, cooling_rate)\n",
        "    print(f\"Best solution: {best_solution}\")\n",
        "    print(f\"Best objective value: {best_value}\")\n",
        "    # Expected: The best value should be close to 0, the global minimum of the Ackley function.\n",
        "\n",
        "test_case_2()"
      ],
      "metadata": {
        "colab": {
          "base_uri": "https://localhost:8080/"
        },
        "id": "tPJtsjns67vj",
        "outputId": "192c2be4-dfb0-4687-fb21-6a817874cbf1"
      },
      "execution_count": 3,
      "outputs": [
        {
          "output_type": "stream",
          "name": "stdout",
          "text": [
            "Best solution: [ 0.00586967 -0.01892723]\n",
            "Best objective value: 0.06647454588487678\n"
          ]
        }
      ]
    },
    {
      "cell_type": "code",
      "source": [
        "def distance_matrix(cities):\n",
        "    n = len(cities)\n",
        "    dist_matrix = np.zeros((n, n))\n",
        "    for i in range(n):\n",
        "        for j in range(i+1, n):\n",
        "            dist_matrix[i, j] = np.linalg.norm(cities[i] - cities[j])\n",
        "            dist_matrix[j, i] = dist_matrix[i, j]\n",
        "    return dist_matrix\n",
        "\n",
        "def tsp_objective_function(permutation, dist_matrix):\n",
        "    return sum(dist_matrix[permutation[i-1], permutation[i]] for i in range(len(permutation)))\n",
        "\n",
        "def test_case_3():\n",
        "    cities = np.array([\n",
        "        [0, 0],\n",
        "        [1, 2],\n",
        "        [2, 4],\n",
        "        [3, 6],\n",
        "        [4, 1],\n",
        "        [5, 3],\n",
        "        [6, 5],\n",
        "        [7, 0]\n",
        "    ])\n",
        "\n",
        "    dist_matrix = distance_matrix(cities)\n",
        "    bounds = [(0, len(cities)-1)] * len(cities)  # Permutation bounds\n",
        "\n",
        "    def perm_objective(perm):\n",
        "        return tsp_objective_function(np.argsort(perm), dist_matrix)\n",
        "\n",
        "    max_iter = 1000\n",
        "    initial_temp = 1000\n",
        "    cooling_rate = 0.995\n",
        "\n",
        "    best_solution, best_value = simulated_annealing(perm_objective, bounds, max_iter, initial_temp, cooling_rate)\n",
        "    best_tour = np.argsort(best_solution)\n",
        "\n",
        "    print(f\"Best tour: {best_tour}\")\n",
        "    print(f\"Best tour length: {best_value}\")\n",
        "    # Expected: The best tour length should be minimal for the given set of cities.\n",
        "\n",
        "test_case_3()"
      ],
      "metadata": {
        "colab": {
          "base_uri": "https://localhost:8080/"
        },
        "id": "ZTOZThGy6-6x",
        "outputId": "101e1462-e527-42f4-c125-3de5b5b283f2"
      },
      "execution_count": 4,
      "outputs": [
        {
          "output_type": "stream",
          "name": "stdout",
          "text": [
            "Best tour: [7 4 1 0 2 3 6 5]\n",
            "Best tour length: 24.272724143468075\n"
          ]
        }
      ]
    }
  ]
}